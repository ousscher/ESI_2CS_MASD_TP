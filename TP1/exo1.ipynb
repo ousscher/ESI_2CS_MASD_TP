{
 "cells": [
  {
   "cell_type": "code",
   "execution_count": 17,
   "metadata": {},
   "outputs": [],
   "source": [
    "import numpy as np"
   ]
  },
  {
   "cell_type": "code",
   "execution_count": 9,
   "metadata": {},
   "outputs": [],
   "source": [
    "b = 1.41\n",
    "\n",
    "def f_x(X, beta): \n",
    "    return X[0]**2 + beta * X[0] * X[1] + X[1]**2 + beta * X[1] * X[2] + X[2]**2\n",
    "\n",
    "def calcule_gradient(X, beta):\n",
    "    return np.array([2 * X[0] + beta * X[1], 2 * X[1] + beta * X[0] + beta * X[2], 2 * X[2] + beta * X[1]])\n",
    "\n",
    "def calculate_gradient_descent(X, beta, alpha, maxIter):\n",
    "    theta = np.array(X)\n",
    "    for _ in range(maxIter): \n",
    "        theta = theta - calcule_gradient(theta, beta) * alpha\n",
    "    return theta"
   ]
  },
  {
   "cell_type": "code",
   "execution_count": null,
   "metadata": {},
   "outputs": [],
   "source": []
  },
  {
   "cell_type": "code",
   "execution_count": 18,
   "metadata": {},
   "outputs": [
    {
     "name": "stdout",
     "output_type": "stream",
     "text": [
      "[ 1.e-323 -1.e-323  1.e-323]\n"
     ]
    }
   ],
   "source": [
    "X = [1.0, 2.0, 3.0]  # I\n",
    "# beta = 1.41\n",
    "beta = 0.11\n",
    "alpha = 0.1\n",
    "maxIter = 10000\n",
    "\n",
    "result = calculate_gradient_descent(X, beta, alpha, maxIter)\n",
    "print(result)\n"
   ]
  },
  {
   "cell_type": "code",
   "execution_count": 19,
   "metadata": {},
   "outputs": [
    {
     "name": "stdout",
     "output_type": "stream",
     "text": [
      "[ 1.e-323 -1.e-323  1.e-323]\n"
     ]
    }
   ],
   "source": [
    "def linear_search(beta):\n",
    "    r=1\n",
    "    xn=np.array([1,1,1])\n",
    "    phi0 = f_x(xn, beta)\n",
    "    while True:\n",
    "        phir = f_x(xn-r*calcule_gradient(xn,beta), beta)\n",
    "        phi2r = f_x(xn-2*r*calcule_gradient(xn,beta), beta)\n",
    "        if phi0 > phir and phir>phi2r : \n",
    "            break\n",
    "        r = r /2\n",
    "    taux = 2*r\n",
    "    while True:\n",
    "        phi_taux_r = f_x(xn-(r+taux)*calcule_gradient(xn,beta), beta)\n",
    "        phi_taux = f_x(xn-(taux)*calcule_gradient(xn,beta), beta)\n",
    "        if phi_taux_r >= phi_taux : \n",
    "            break\n",
    "        taux = taux+r\n",
    "    return taux\n",
    "\n",
    "\n",
    "\n",
    "def calculate_gradient_descent_var(X, beta, alpha, maxIter):\n",
    "    a = alpha\n",
    "    theta = np.array(X)\n",
    "    for _ in range(maxIter): \n",
    "        a = linear_search(a)\n",
    "        theta = theta - calcule_gradient(theta, beta) * alpha\n",
    "    return theta\n",
    "X = [1.0, 2.0, 3.0]  \n",
    "beta = 0.11\n",
    "alpha = 0.1\n",
    "maxIter = 10000\n",
    "\n",
    "result = calculate_gradient_descent_var(X, beta, alpha, maxIter)\n",
    "print(result)"
   ]
  },
  {
   "cell_type": "code",
   "execution_count": 20,
   "metadata": {},
   "outputs": [
    {
     "name": "stdout",
     "output_type": "stream",
     "text": [
      "Résultat avec méthode de Newton : [0. 0. 0.]\n"
     ]
    }
   ],
   "source": [
    "def calcule_hessien(X, beta):\n",
    "    return np.array([\n",
    "        [2, beta, 0],\n",
    "        [beta, 2, beta],\n",
    "        [0, beta, 2]\n",
    "    ])\n",
    "\n",
    "def calculate_newton_descent(X, beta, maxIter):\n",
    "    theta = np.array(X)\n",
    "    for _ in range(maxIter): \n",
    "        grad = calcule_gradient(theta, beta)\n",
    "        hessien = calcule_hessien(theta, beta)\n",
    "        try:\n",
    "            hessien_inv = np.linalg.inv(hessien)\n",
    "        except np.linalg.LinAlgError:\n",
    "            print(\"Le hessien est singulier et ne peut pas être inversé.\")\n",
    "            break\n",
    "        step = hessien_inv.dot(grad)\n",
    "        theta = theta - step\n",
    "    return theta\n",
    "\n",
    "X = [1.0, 2.0, 3.0]  \n",
    "beta = 0.11\n",
    "maxIter = 10000\n",
    "\n",
    "result = calculate_newton_descent(X, beta, maxIter)\n",
    "print(\"Résultat avec méthode de Newton :\", result)"
   ]
  }
 ],
 "metadata": {
  "kernelspec": {
   "display_name": ".venv",
   "language": "python",
   "name": "python3"
  },
  "language_info": {
   "codemirror_mode": {
    "name": "ipython",
    "version": 3
   },
   "file_extension": ".py",
   "mimetype": "text/x-python",
   "name": "python",
   "nbconvert_exporter": "python",
   "pygments_lexer": "ipython3",
   "version": "3.12.3"
  }
 },
 "nbformat": 4,
 "nbformat_minor": 2
}
